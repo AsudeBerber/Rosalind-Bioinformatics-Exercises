{
 "cells": [
  {
   "cell_type": "code",
   "execution_count": null,
   "id": "552f7b3d",
   "metadata": {},
   "outputs": [],
   "source": [
    "#Counting DNA Nucleotides\n",
    "#given DNA string , count how many nucleobases there are in that given string \n",
    "#dna = \"AGCTTTTCATTCTGACTGCAACGGGCAATATGTCTCTGTGTGGATTAAAAAAAGAGTGTCTGATAGCAGC\"\n",
    "#dna = \"GGTTCCAAAACTGGGAGACTAAACATTAGATGACGTTAGAGGTGCGCTGTTTCACGGGTATTTTCTTCGTTGGAGGTTGTAGGCATTAGCTAGAAAAATAGAACTTATCACATTAGACCGGACGCCTTTTAAAGTAGGGTAAATAGATCCTATAGTCGGCCACGCGCTGTGGTCTTAACTGCCATGGAATTGACAGTTTGTTAAATCTGGTAATCTCTCGCACAGCGCGGTATTGAACTCCACAATCGGCTAGTGCGCCCTATTGTGAAGGTGTTCCCAGTTGGGCACGAAGAGAGTAGATTCACAAATCGTCGGGTAATCTCGGAACTAACTGGTCTCGTTGTCAGTGACGTTTCTTAGTGGGCAGAGTCTGGGGAGTGCATTCCATGGGCGTGCTACTATTGTGTGATTAGTACGCCGCATGGACGGGACAGCCAGTCGTCGAGGCAACGATTGTAATATATCTGAAGTATGGCCCTCTAGTGCAACATGCTCTAGACACTTACCCTAATGTGGAGGGAGATCCGCGGCGAAATTGAAAACACGGATATCGCTCTCGAAAGTATCGCTTTGGCTCTGGTCGGTAAGGTAGGGACTAGTCGTCCGACTAGCGCACAATGCCAGCTGTTAGGTGAGGCTAGGCCTTGGTTGTCAGTCTTGGGTCTTCTCTGACGACCTCTTTTCACCGGAGAGCCCGCCTGTCGGCCACCAGGGGCATTACCAAGTTGCCGCCAATCTGCCTTACGGGGGAGGTCGAGCACATAGACAGGTGGAATATTCTCTCCGGCATCGCGATAGGTCCAGCTGCCCCATACCTTATCGTGACGCCGCAATCTACCCTGACCCTGCAGGACGTCATCTTTAAGCCGAGCGAGAGCCAAGGTTTGGTCGTTCCAGGCTTCGCACACGGAAAGGGCTGCCGTCGATATTGTACGGTTTC\"\n",
    "dna = \"GCTTGGGAGACTAGGTCTAAAGAGTCTTTCCCTGGTTCAATCGCCGCGAAAGCTGGACTGGGATTGGGTGTATGCTTCTTAAGGGGTTGTGTGGGGCGGACGGGGTCGTCCTCGGATACATATAACGCGCAATTACTCTCAAGCTGATATTCATACTGAAAGGATTGACGGAGGGGCTGGACATCACGCACTGCAGCTGTCCCGACAATAACTGTGAGTTTCCGCTCCTACCTTACTGTGCAAAGTCTTCCGTGGAACGAATCGACTGTTTCCCTTAACGCCTTGGAAACGTTACTGCGGCACTGGCTTTAGCCGGGGGATAAAAGCCGAGCGGCGGAACGACTTGGCAAGATGGGCCCTTCCACTTTTAGCATTTCACCACATTTTTCGCGCACGACGCTCGAATTCCCGCAAAATACTGTCCATACCAGACGCTGAATGCTCAGGGGTTTTATCCTCCCTAGTGGTGGGGGTTCACCCAGATATTTTTCGACCCATAGAAGGCGTTCTCTTTACCCAGTCTAGCGTATATGGTGCGGTTCCACATCCTCCACAGAACGTACGGTGGCGATTCTGCTCACGCGGGGCAACTGATCGAAGATTCTCGCTGCGCGAGTTCAGCTTTCGTGCTTCAAGCAAAACGGCGTCCCATTTTGGACCGGAATCCACTTTAGCCGAACCGTGTACACAACCCTCTTACGCACTTATCAGAACCCTAGTAGCTGCGCTCATAATCTTTGGGCAGACATGCTTTGGGCCCAAATGAGCAGCTCGGGGTGTCTAAACGACAATGGATACGGTTGGTCGTAGACAATTCGTATTGTAAGATAGCTGCCTCTCCTGAAGGAATTTGGAGATTGCGTGTGAAACCCCTGCTCCCACAAAAGGGGGCGTCGTTTAATTTGTTATACGTGGCATGGCGTTGATGTCGAGAAAAGAGGGATTCGAAGACTCCGGACCATAAGCCTGAACACGC\"\n",
    "\n",
    "nuc_count = []\n",
    "for nucleotide in ['A', 'C', 'G', 'T']:\n",
    "\tnuc_count.append(str(dna.count(nucleotide)))\n",
    "print(' '.join(nuc_count))"
   ]
  },
  {
   "cell_type": "code",
   "execution_count": null,
   "id": "02d88ec7",
   "metadata": {},
   "outputs": [],
   "source": [
    "#transcribing DNA into RNA -> transcription\n",
    "#RNA string = A C G U \n",
    "#sample DNA string = GATGGAACTTGACTACGTAAATT\n",
    "#sample RNA string = GAUGGAACUUGACUACGUAAAUU\n",
    "\n",
    "DNA_string = \"AAGCCGGGACAGAAACCATGATTCCTGTTATTATTTTCCTTACATGTCTGGCGTAACAGGACCGCTATTCCCCTCGTTGATAAGTGGGTAAGTGGTGAAGAAGTGTGGAGCTTGCACTAGTAGTCGTAGGCATAGGAAATAAGAAAACGTTACGATTTCGCTATTTAAATCGCGTTGCAAGCTACTTTCGCCCTAGTTAGTTGCTAAGGGCTTCACGGAGCGCTGCTGGTATGGACGAATGGCCATCAGTATTGTGCAAACGTATTAAGTTATTCATCAGTATCGACAAAATCTTCCCAATTAGTGATTTATCTGACGGCATTATACCCTGGAGAGACAGTTTATAAGCGAAGGTCAGCGAACCCCTTCGCCGCACTCACCTCTACACGTCCCGTCAAACGCCAGTCCGATGACTTATTCCGCCTGTTGGTGGTAACGCCCGGTCCTTCAAAGCTGGGCTAGTGCACTGATTTATACAGGTTGCAAGTGTGTGGAAGAACGTAAGGATCTGACCGCATAAACTATTGGCACACTATATCGTAAGGTTGCTGATTATCCTTGTCCCGTGAATGTCATGTTCCGCCAGCTCACAGCGCCTCCAGCACCTCGGACTACTAGCACGGCCCTGTGTCAATTTCCTAATAGAGTACTACGCTGGAGCGATGTTATGTTTTTGCCGGCATATCCGGCACGATATGGAGGGCGCGCGTCACCGCACGTTCATGCAGCCCCTATGCTCGAGCTACTCCGCTCCGAGCTCATGGTGATGCGTACTAAAGTATGCGATGTTCAGGTGGAGGGAACAGACTCTACAGAAACTAGAACAGATGTGACAGGAAGCATGTGAATCCCAGGAACAATGTTTAACAAAGATTGAAACACAGCGTGCGGTATGAATACTGTTCAGTGATCGTTTTTAGATCCGGGCTTCCGATTCCAAGAAAACTCGTTCCGGACGCAAATGTACCAGGGGAAGGATGTACATGGCT\"\n",
    "RNA_string = DNA_string.replace('T', 'U')\n",
    "RNA_string\n"
   ]
  },
  {
   "cell_type": "code",
   "execution_count": null,
   "id": "0d40d76c",
   "metadata": {},
   "outputs": [],
   "source": []
  },
  {
   "cell_type": "code",
   "execution_count": null,
   "id": "3a3097c5",
   "metadata": {},
   "outputs": [],
   "source": [
    "#make trans complement of DNA string - reverse complement\n",
    "\n",
    "\n",
    "dna = \"AGAACACCGTCGCAACACCACCAGTAGACTAGGCCCGACGTTAACTAGATTTGACAACGTGTTTAAGTTCAGCTCTCGCATGCGGTCTGGTAACATACCCTATCACTGAATTGGTATAACATCCGATTTTTCCTGATTAGGCTTATGTGTTGGGGTCAGTATTGGTTTCGACCCATACCCGACCGAATCCATCAATCACGGGAGTATTCTTGCGCTAATGTCGAGCTTGCTCGGCATACGGGCGCGTTCCTCAAGTCGCCCCAGGGGTCAGGACAGCATTGTTATGGCATGTCGGGATTACGCGACGGCGATTAGGCCACCCTGGTAGTGACGCTGCGTGATGCCATACCTAAAGATAATCAACGCGCGTTTTCAGCGACGTCGTCGACCTCTGGTATCGGTGCCCCTATTCTAACCCCCATCCAGCAAACGGCTAGGCAGGTTCATCTTCTGGGCTCCGCGGACCTTTTCCCAATCCCAGGCAGCCCCGAGGGGAGGCGTAAGGGGCGATTCCAGACGGGACGGGTCTTGGTAAGCTCGTTAATCTGACCTCCCGTTTGTTATGAGACGGGTAGGGTTAAACAGTTGCTCTCCTAACCTAATGGGGGCAGGTTAAGTCCATACTACCGACCCAAACCTTATTCCAGCGTCCTATCTAAAAAAGGGACAACTGACATACCCTACTGCTCCGTGTGAATAGGACGCTAAGTAACAACGGTCCTGGACCCGCCTATCTGTAGCTACTACATGACACAAGATGTGTTGAATACACCTTAAAAGACTGTAATTGGGTTCAGCTTAGAAACGCCTATCCTCCTGCTTGCCAATTTCGTGTATATTTAACGAAGGGCATCCTCTACTCGTGACATCCGCTACGACCTCGATCCATTGGAGTGCTA\"\n",
    "nucleotide = 'ATCG'\n",
    "complement = 'TAGC'\n",
    "transtab = str.maketrans(nucleotide, complement)\n",
    "dna_reverse_complement = dna.translate(transtab)[::-1].lstrip()\n",
    "print(dna_reverse_complement)"
   ]
  },
  {
   "cell_type": "code",
   "execution_count": null,
   "id": "c1d37b91",
   "metadata": {},
   "outputs": [],
   "source": [
    "#Rabbits and Recurrence Relations problem\n",
    "#Given: Positive integers n≤40 and k≤5\n",
    "#Return: The total number of rabbit pairs that will be present after n months, if we begin with 1 pair and in each generation, every pair of reproduction-age rabbits produces a litter of krabbit pairs (instead of only 1 pair).\n",
    " \n",
    "n = 29\n",
    "k = 2\n",
    "def Fib(n,k):\n",
    "    if n < 1:\n",
    "        return 0\n",
    "    if n == 1:\n",
    "        return 1\n",
    "    if n == 2:\n",
    "        return 1\n",
    "    else:\n",
    "        return Fib(n-1,k) + k*Fib(n-2, k)\n",
    "\n",
    "rabbits = str(Fib(n,k))\n",
    "print(rabbits)\n",
    "\n",
    "#with open('data/rosalind_fib.txt') as input_data:\n",
    "\t#n,k = map(int, input_data.read().split())\n",
    "    \n",
    "#with open('output/004_FIB.txt', 'w') as output_data:\n",
    "    #output_data.write(rabbits)\n"
   ]
  },
  {
   "cell_type": "code",
   "execution_count": null,
   "id": "86b17614",
   "metadata": {},
   "outputs": [],
   "source": [
    "#Computing GC Content problem\n",
    "#Identifying Unknown DNA Quickly\n",
    "#A quick method used by early computer software to determine the language of a given piece of text was to analyze the frequency with which each letter appeared in the text. This strategy was used because each language tends to exhibit its own letter frequencies, and as long as the text under consideration is long enough, software will correctly recognize the language quickly and with a very low error rate.\n",
    "#why we compute GC content? Because of the base pairing relations of the two DNA strands, cytosine and guanine will always appear in equal amounts in a double-stranded DNA molecule.\n",
    "# the GC-content of most eukaryotic genomes hovers around 50%. \n",
    " #most prokaryotes have a GC-content significantly higher than 50%, \n",
    "#A higher GC content level indicates a relatively higher melting temperature, and DNA sequences that encode proteins tend to be found in GC-rich regions.\n",
    "\n",
    "\n",
    "    \n",
    "#Given: At most 10 DNA strings in FASTA format (of length at most 1 kbp each).\n",
    "\n",
    "#Return: The ID of the string having the highest GC-content, followed by the GC-content of that string. Rosalind allows for a default error of 0.001 in all decimal answers unless otherwise stated; please see the note on absolute error below.\n",
    "from pysam import FastaFile\n",
    "# read FASTA file\n",
    "#sequences_object = FastaFile(file_name)\n"
   ]
  },
  {
   "cell_type": "code",
   "execution_count": null,
   "id": "b0f14d1c",
   "metadata": {},
   "outputs": [],
   "source": []
  },
  {
   "cell_type": "code",
   "execution_count": null,
   "id": "efb10a26",
   "metadata": {},
   "outputs": [],
   "source": []
  },
  {
   "cell_type": "code",
   "execution_count": null,
   "id": "96e874d7",
   "metadata": {},
   "outputs": [],
   "source": [
    "from __future__ import division\n",
    "\n",
    "#fasta = open('rosalind_test.txt', 'r').read()\n",
    "\n",
    "max_gc = 0.0\n",
    "\n",
    "with open('/Users/asudeberber/Downloads/rosalind_gc.txt') as f:\n",
    "    content = f.readlines()\n",
    "    for i, line in enumerate(content):\n",
    "        if line.startswith('>'):\n",
    "            id = line[1:]\n",
    "            # reset sequence string\n",
    "            seq = ''\n",
    "        else:\n",
    "            newseq = line.strip()\n",
    "            seq = seq + newseq\n",
    "            # print if last substring or if next substring starts with '>'\n",
    "            if i==len(content)-1 or content[i+1].startswith('>'):\n",
    "                gc = 100 * (seq.count('G') + seq.count('C')) / len(seq)\n",
    "                if gc > max_gc:\n",
    "                    max_gc = gc\n",
    "                    max_id = id\n",
    "\n",
    "print(max_id, end='')\n",
    "print(max_gc)"
   ]
  },
  {
   "cell_type": "code",
   "execution_count": 3,
   "id": "26147cc1",
   "metadata": {},
   "outputs": [
    {
     "ename": "SyntaxError",
     "evalue": "Missing parentheses in call to 'print'. Did you mean print(fastaids[max_index])? (<ipython-input-3-c0d0264c1233>, line 81)",
     "output_type": "error",
     "traceback": [
      "\u001b[0;36m  File \u001b[0;32m\"<ipython-input-3-c0d0264c1233>\"\u001b[0;36m, line \u001b[0;32m81\u001b[0m\n\u001b[0;31m    print fastaids[max_index]\u001b[0m\n\u001b[0m          ^\u001b[0m\n\u001b[0;31mSyntaxError\u001b[0m\u001b[0;31m:\u001b[0m Missing parentheses in call to 'print'. Did you mean print(fastaids[max_index])?\n"
     ]
    }
   ],
   "source": [
    "#still computing GC content\n",
    "#largest GC content -> purpose -> to find from given FASTA files\n",
    "def fastaread(filehandle):\n",
    "\n",
    "    # Initialize some arrays to return first\n",
    "    fastaid = []\n",
    "    seqarray = []\n",
    "\n",
    "    # Open file\n",
    "    f = openandread(handle)\n",
    "\n",
    "    # First while True:/Break idiom to pass any and all blank spaces\n",
    "    while True:\n",
    "        line = f.readline\n",
    "        if line is empty:\n",
    "            return\n",
    "        if line[0] is '>':           # If we find a fasta id however, then we break\n",
    "            break\n",
    "\n",
    "    # Now we'll start our other while True:/Break idiom\n",
    "    # This one will find the fasta record, put that record in an array.\n",
    "    # Then until the next record or end of file is encountered, it will\n",
    "    # read in all the lines and return that sequence\n",
    "\n",
    "    while True:\n",
    "        if not line.startswith('>'):\n",
    "            raise Error(\n",
    "                    \"Records in FASTA files should start with '>' character\")\n",
    "\n",
    "        title = line[1:end].rstrip()\n",
    "        fastaid.append(title)\n",
    "\n",
    "        # Initialize our seqdata variable. This one will store one single sequence\n",
    "        seqdata = []\n",
    "\n",
    "        line = f.readline()\n",
    "\n",
    "        # This second while True:/Break idiom extract the sequence data\n",
    "        while True:\n",
    "            if not line:\n",
    "                break\n",
    "            if line [0] == '>':       # Check to see if we're onto the next record\n",
    "                break\n",
    "            seqdata.append(line.rstrip())\n",
    "            line = f.readline()\n",
    "\n",
    "        # Take the data in seqdata and join it together and add to the seqarray\n",
    "        nts = ''.join(seqdata).replace(\" \", \"\").replace(\"\\r\", \"\")\n",
    "        seqarray.append(nts)\n",
    "\n",
    "        # If we're at the end of the document we'll go ahead and return our array\n",
    "        # of ids and sequences\n",
    "        if not line:\n",
    "            return fastaid, seqarray\n",
    "\n",
    "def percentgc(fastaids, seqarray):\n",
    "\n",
    "    # Finds the gc content of sequences in FASTA files\n",
    "\n",
    "    # Initialize our seqgc variable\n",
    "    # This stores all the %gc vals for seq\n",
    "    seqgc = [];\n",
    "\n",
    "    # First we need to check if the two arrays are of\n",
    "    # the same length, i.e., have the same number of\n",
    "    # elements in them\n",
    "\n",
    "    if len(fastaids) != len(seqarray):\n",
    "        return ValueError(\n",
    "            \"The number of records and sequences is not the same. Try again.\")\n",
    "\n",
    "    for seq in seqarray:\n",
    "        gccount = seq.count('G') + seq.count('C')\n",
    "        totcount = len(seq)\n",
    "        seqgc.append(100*gccount/totcount)\n",
    "\n",
    "    # Find the max value and index and return the fasta id and %gc\n",
    "    max_gc = max(seqgc)\n",
    "    max_index = seqgc.index(max_gc)\n",
    "\n",
    "    print fastaids[max_index]\n",
    "    print max_gc"
   ]
  },
  {
   "cell_type": "code",
   "execution_count": 23,
   "id": "355fe006",
   "metadata": {},
   "outputs": [],
   "source": [
    "#Counting point mutations\n",
    "#We are interested in minimizing the number of (point) mutations separating two species because of the biological principle of parsimony, which demands that evolutionary histories should be as simply explained as possible.\n",
    "#numberofmismatch- we will find\n",
    "\n",
    "seq1 = \"CGTCAGTCACAAATGTGCGTCTTGTCCCCCTAGTTATAGGCCAAAATAACCCTAACGATCCGGTTATCGGGCACACCCATCGTGGAAGAAAGAAGACACCGTGTGTGCTTGTGTAAACCCGCGGTAACACACTCGAAGTACGCAAGCTGTGTCTGCTTAATGAACTCATTATCCGTGATTATGCTGCCGGGAAAGTTACCAGGAATAAATTGTCGGGAATCTTATAACCTTCTTCACTCTATTCATACCGGGACAGTTTATAACGAGAGCCTGGCGGAGGTCCACTAAGATCTTTTATGCTATAGGCTATCGAGTTGTTGCACCCTACCGAAACCCCTGGAACCATAGAGTCGTCGACCGGTACAAAAATCCAGGGAAAGGTATAAAGTATATGGCACCACCAAATTTAACTAGGGACCACGGTAGAACTGCGGTTTTGGCACCCCTTGGAGGTCACTAGTTTCTTAATCGAGTCAAACATCAGTATTCGTGGGTGTGAAATGATGGGGACTAGTGCTAGTATCCATGCGAGAGGTGATTCTAACTGTACGTTTAAACTGTATACATCACGATACTAGATTTTCAGACCTCCGATGCAACGACCCTTTGAACCAAATAATCGGGTTAGGTCTAAATGACTAGTGTACGATGCGGGGACGATCACGTCTAGGTTGTCTTCTTGTGCACTCCCTGGCCCACGACGATCCAAACTGTCGGGGTCCGACAGAGGATGAACGGTCCGATACTAGTTGTTTTAGTACCAGATTTTGCAACCCCTTCTTAACGACATTTGCCTCGTCCCATGCGAAAACGAAGACAACTCTCTCCCCTACCCCACGTCCGTGCAGATGTCTTGACTCAGGATTGCGATTTAACGGGAAGTAGAAATGCTTCCCACTCGACAAGTGTATGTAAGTTGTGAT\"\n",
    "seq2 = \"CGACCTTCTCTTTGCCTTGTCGTATCGTCGCAGGAGCTCGACATTTCTACTCAAACGAGCGAAAGGTCCGGACCCACCTTCTGACGATTACTGGCAGGCGGATCGCGATTGTGAAGAATGTCGGTATGGGAGGAAATGGACGCGAATTGCGTGTGCTTCATGAACTTTATCTATATAATTAACTTGCTGTTGCAATTACATTAGATGAAGTTTTAGGGATTTATTAATCGTCTGCCCTAAGGAACCGACCTTTCTCTTAATCCCGACATGACCGAATTGTCGAAGTTAGATCGATACGGCTACCTGGTACCGATTTAGGGCAACGTACCAGGCCCATTCGGAACACAAGTACCCCCAACACTTCGAAGATCGGATCAGGAGCTCCAGGACCGTATCGGGACGGCCGGTAGATCTGGACTGCGGGCGCGCGTGACTATTCGATCCCGTTCACGATCTCATCATTTGTAATCCAAACATATCCTCGTCATTGATCATGGGAGGTATTCGTGAGATGCTCCCGCAAACCTTCGCGAGAATTTTTTGTTGGAAGGTTTAGGGGGTGTTCCGCATCATGTAAAATAGTCCGAGTTGTGGGCCTTTGCTCCTCTCTTCAAACTAGGTTACTTGCAGCGACTTGCCTAGCTACCGCCTTGGTAGCGAGAGCGCGCCTACTGCTTTGGTAAGCACTCACTGGTTTCCTGCACCATACAGTGCCGCAATGATAAACTAGATTAACTGTAAAAAATCAGTTGTCTCAGCATTAGATTTTGTAACACCATCAGGACGACCTTTGTCTAGGCGCGTCCGGAGTATAAAATACGGATCATTAGTAACCAAATTCTCTAAGGAGCGGAGAAGGAATCATAACGTCCTCAAGAGAAGGCGTAAAGAAAACTAACCGGCAATGCTACGAGAGTTCCGGA\"\n",
    "\n",
    "\n",
    "def main():\n",
    "    args = get_args()\n",
    "    seq1, seq2 = args.seq1, args.seq2 \n",
    "    l1, l2 = len(seq1), len(seq2) \n",
    "    distance = abs(l1 - l2) \n",
    "\n",
    "    for i in range(min(l1, l2)): \n",
    "        if seq1[i] != seq2[i]: \n",
    "            distance += 1 \n",
    "    print(distance)"
   ]
  },
  {
   "cell_type": "code",
   "execution_count": 18,
   "id": "4e19ccf3",
   "metadata": {},
   "outputs": [
    {
     "name": "stdout",
     "output_type": "stream",
     "text": [
      "462\n"
     ]
    }
   ],
   "source": [
    "#Counting point mutations \n",
    "\n",
    "with open('/Users/asudeberber/Downloads/rosalind_hamm.txt') as f:\n",
    "    content = f.readlines()\n",
    "    seq1 = content[0].strip()\n",
    "    seq2 = content[1].strip()\n",
    "\n",
    "    print(len([(i1, i2) for (i1, i2) in zip(seq1, seq2) if i1!=i2]))\n",
    "    \n",
    "#alternative solution \n",
    "         #def hamming(s, t):\n",
    "    #return len(list(filter(lambda pair: pair[0]!=pair[1], zip(s,t))))"
   ]
  },
  {
   "cell_type": "code",
   "execution_count": 30,
   "id": "fc004a43",
   "metadata": {},
   "outputs": [
    {
     "name": "stdout",
     "output_type": "stream",
     "text": [
      "0.7222932651321398\n"
     ]
    }
   ],
   "source": [
    "\n",
    "\n",
    "\n",
    "\n",
    "instring = \"18 29 22\"\n",
    "\n",
    "k, m, n = (int(elem) for elem in instring.split(\" \"))\n",
    "\n",
    "s = k + m + n\n",
    "denom = s * (s - 1)\n",
    "numer = k * (k - 1) + 2 * k * m + m * n + 0.75 * m * (m - 1) + 2 * k * n\n",
    "\n",
    "print(1.0 * numer / denom)"
   ]
  },
  {
   "cell_type": "code",
   "execution_count": 49,
   "id": "44585892",
   "metadata": {},
   "outputs": [
    {
     "name": "stdout",
     "output_type": "stream",
     "text": [
      "MSYFKSQARLPCLTCLMYSVYDLSRLVESAARGHSPMRIRAVGNGQRLLNTRAVFAQAHLHLRLSGWLCSTYLTVTCNKAGDKAAFSDCPPLLRANFSPSDNSSRTRVRCQETLGGAPGIGSETAANSNRRFLSRIFVTRPDYCFFKIKLSTSSNYFASSRMCTRLPSGGSLVLMPKRKCFWWQIPSNSHNPRILEYRSRNYVYLAMRRWHGIDVTRRVRLAQYEVRSVTFSQPPRFVLDSYRGLASHKSHDLMYSTMCWIAVAVSYRHVALPPRTSSAKNGSGLDFDHCMGNVRTPNHMAERCLQHFSMNMPRALPSKIAAHVHRVCPSETLTNVCDAILKRCPAGQSRVMGLALTVSGPGIGVRLLGSFAYLSHDIPQSLLRVYYREFRLIYVRSLSYIKISVYSGTSSPTMSTGDRIPRISETKNRSFDLTNSSRCYETRWLSIGRRLLCTDAEYSGTPQVSVSGLAGRSDRTTCRLSQMRTMGSPPCTLIRLFQSSGCRPAVLTTPYFVLRTYLENEARTLSIAPRSTYSMMAYAQSIDPDLYKDRRRGRKQNYFASPLICQLVLKPLVIINGPDSFGSKSIISMSLKNNRVMMFARALILVHCSRFAQVYQAVVGSSSTPYCSEQEVWNMILPSLFYELPDNSGKSCYLIECSSPLAGHDWEVIEQYVVFSNGWLLRRACYTPDAVSSFRSWYSNPEPRWEHITATLPHGSRPTLDDLEMSEVNSARSNIRICFGYGFFVHVTGGESLPDRFDLLHHPTTLNLGLLTSLITLYCYPPCLFKLPNNRRRVICGSRLVIATGAQAVLTVNRRVGCRARRHIGGSPNCAALPFTKRCRKAIIATDQPETPAQAPPHDCHEASCSRSSLLQETFLWTRSGLLYSRDALLWATPPSSMVDLALMRTLGAICQSVHRNQHLRPHAISFEHQESYSTNGRRHQRAFVQQNGGSRSLLVSRFGVCASVEDAPNATIGVRWISGGRPWDFDNPPYTYIDWELRGNIRGLMQHEPPQSNEGSHHPISTATLWRAGHRFLHVYNYHSAPVRHNLKADWLAGSSTQGSEANPCRLRVACSNRFLLSTFVLIHRPGSSDQGEIGLLMCAIVSTQSSKRCAGTCVCWCASISNTRIPNLKADPNYQSRNFLQLLETGVCPRGNLCDRGSNKRGQDVRWQMVYIGSGLLTPEKSQERVFSDWAPNCGPPSQWRTHADRLGNYGDLYGWYRKERYATKANLSDALVLDTRLLRRVRDNLTRVLERHWERLSPGYSISVMHGASDAQRLIGTAPPKHIRATESSGSRSARNGTTCWEPSCVNAWLYLRLCPSGAQLSPRAVRISTETSVLLRRGVSSNRGASVIRIVVLYILVLVIVTRSRTRPQLCVADTDDLNEEKTVPQPRKLIRIIYRFVSTNARGFKEVSLVTVFKYEWTLHGITTSGTHIRAKFRVQSRLRSPHVALILYPPQSGKRSAWISSPELSPAVAIKMGQVAIVNAIGAQRTYFRLHKTPEQLWRRVVNKLRPSCYRFAGSCSYCLERTPVGAGVVRCPGGGITSQCHPPAASLFRHPLIWPEVFETESPVPIEVAAAAAAGQCNNKGFRPMSSEYDAWHHRPTQRRRFKWRSAHPTSAIVSRRIEVFSSTVAARRSGIGLLVAGHVSVIMRALVEKRRRIKVTAVAPVRQNLEKIKCRSLCGFNWCLYTRFGTWSHDTFRRIRRHYDLPCECRLQLDNNWNCHSGLNQCESGGSSADKLKTVTADRQNAGVRAEVNTKNRSGLRIRVLILKDTRRLSAILTTNGSLYAHPAAPVTSSDSTSKVLQLYRKLSLYRLSGRSRLSCHYLFKGHVHPVRCERLHCALILCSDPCMVYGPPGAYRGPTHSQVFPPELPPLRVQIMPPSRGPLRARPSIISVCIALSYDVHPGRLSRTTTEFIPRSILQAEMVLIDQLSQGENIRTSIMLSGSLVGSLSRSGRRLLSEYTYKYAKGPEPCTRKSNPRLIGASSVVGWSCLPPVQAICAYYKRSLRRGRISMTLAIVCWFDEMGHGPKDREKPWRPFLYSMPIPPHSSIEMGMGFPVYLRRIQIVRLVIDPALTTVLLSSIARSPQFVRRRSCVPIPKHHIYPRSSSLTAYCSKSDMCERKAALHGGSGARGMSTRNADTSEATISIARPTCLRPVSAPYAYHMVVTTVVFVQICESDDVDEISSIVGPLYPSPSSCGQPSPWTTCHHNREHLRLKSSPLCTHPRKSGRTKKLLEPGLPRSKRMKMVRSRPDWRPDKRYCCQVSTHVDDNVFPPQGHSINTYVLCSVREYTNPLATSLILKVGLIELGGLTLFSFHERSRHHPRGLGATICTIVARHREAASPRQTWGEGSTFLYTPAARPGFRGQNWRSNDKLRNALTLLYESYSGQDQPSSTGLSASDFYVSQRYTEGLVPNDRRPNRTDTQIVTTGRFLVRDVAYSQSHKPTGSYGSHCCPVVARERCRPKFARPRTPNDTMGVAFIASRSSLTDIPPVSRIETTASKGTACISFRSSCRLNNYRGRPNRPSHAGKLGLECLPRSSLTGVQLTSTSGSWLPTCWGYPLMLTKRPHGASCEFPSPAQLGSCSMLEIPSVSGQRQASRSSVVDLPSSNHERAPPQLAVEMRVVQAVRFKASLTRNTTQYSRLDVVIKISRKPSGGVDRDEEELHSYVNKARTGGDNPVTFMLRLTMLKGPTFATVSTLRTVGEFGKTCCRAGSLLDAT*\n"
     ]
    }
   ],
   "source": [
    "#Translating RNA into protein\n",
    "#terminal pip install biopython\n",
    "from Bio import Seq\n",
    "#RNA = \"AUGGCCAUGGCGCCCAGAACUGAGAUCAAUAGUACCCGUAUUAACGGGUGA\"\n",
    "data_rna = \"AUGUCGUAUUUCAAAUCCCAGGCACGAUUGCCCUGUCUUACCUGCCUUAUGUAUUCCGUUUACGACCUUAGCAGAUUAGUGGAGUCAGCCGCGAGAGGGCACUCUCCAAUGAGAAUCCGCGCGGUAGGCAACGGCCAGCGAUUGCUUAACACGCGGGCUGUAUUCGCCCAGGCGCACCUCCAUUUGCGAUUGUCCGGUUGGCUUUGCAGUACUUACUUAACAGUCACUUGUAAUAAGGCGGGUGAUAAAGCAGCGUUUUCGGACUGCCCCCCGCUGCUAAGGGCCAACUUCUCACCGAGCGACAACUCUUCACGCACAAGAGUCCGAUGUCAAGAAACUCUCGGAGGUGCCCCAGGAAUCGGAUCCGAGACUGCUGCAAAUUCUAAUAGGCGCUUUCUAAGCCGUAUCUUCGUCACGCGACCGGACUAUUGUUUUUUCAAAAUAAAACUGUCAACAUCCUCAAAUUACUUUGCUUCUUCCAGGAUGUGCACUCGUUUACCAUCUGGCGGGAGUCUUGUCCUGAUGCCCAAGAGAAAAUGUUUUUGGUGGCAAAUUCCAAGCAAUUCUCACAACCCACGCAUAUUAGAAUAUCGCUCCCGUAAUUACGUGUACCUCGCUAUGCGCCGGUGGCACGGGAUCGACGUUACUCGGCGUGUAAGACUGGCUCAGUAUGAAGUUAGGUCCGUAACGUUCAGCCAGCCGCCCAGAUUUGUUCUCGACUCGUACCGGGGCCUUGCGAGUCACAAAUCACACGAUUUAAUGUAUAGCACAAUGUGUUGGAUCGCCGUAGCUGUAAGCUAUCGGCAUGUAGCCCUUCCCCCGCGAACCUCCAGCGCCAAGAAUGGGUCAGGAUUGGACUUCGAUCAUUGCAUGGGUAAUGUUCGGACGCCCAAUCAUAUGGCGGAAAGAUGCCUUCAGCACUUCAGUAUGAACAUGCCUCGCGCGUUACCAUCCAAAAUAGCGGCUCAUGUGCACAGGGUAUGUCCUUCAGAGACUUUGACUAACGUAUGCGACGCAAUCCUAAAGAGGUGCCCUGCAGGGCAGAGUCGAGUAAUGGGGUUGGCUCUGACUGUAAGUGGUCCGGGCAUUGGCGUUCGGCUCCUUGGUAGUUUUGCGUACCUGAGCCACGAUAUUCCACAGUCCUUGUUAAGGGUGUAUUACCGCGAAUUCCGUUUGAUUUACGUUAGGUCGCUUAGCUACAUAAAAAUAAGCGUUUAUUCCGGGACUUCCUCUCCAACAAUGUCUACGGGAGACAGAAUACCGCGUAUAUCAGAAACCAAGAACCGAUCUUUCGACCUGACUAACUCUAGCCGGUGUUACGAGACGAGGUGGCUCAGCAUAGGCCGACGCCUCCUCUGCACGGACGCCGAAUAUUCAGGGACACCGCAGGUCUCCGUUAGUGGCCUCGCUGGCAGGUCCGAUAGAACAACGUGUCGUUUGUCGCAGAUGCGAACAAUGGGAUCGCCUCCUUGCACCCUGAUACGACUGUUCCAGAGUUCAGGUUGCCGCCCAGCGGUCCUCACAACACCCUAUUUCGUCCUACGAACCUACCUUGAGAACGAGGCUAGGACACUUUCAAUAGCACCCAGAUCCACCUACUCGAUGAUGGCGUACGCCCAGUCUAUCGAUCCAGAUCUGUACAAGGACAGAAGACGAGGUCGCAAGCAGAACUAUUUUGCAAGUCCCCUUAUCUGCCAGCUAGUCUUGAAGCCCUUAGUUAUUAUAAAUGGACCCGAUAGCUUCGGAUCUAAAUCAAUCAUAUCGAUGUCAUUGAAGAACAAUAGAGUGAUGAUGUUCGCCCGCGCGCUGAUACUUGUCCACUGCAGCAGAUUCGCACAGGUAUACCAGGCCGUAGUUGGCUCGAGUAGCACACCUUAUUGCUCCGAGCAGGAAGUAUGGAACAUGAUUCUUCCGUCCCUUUUCUACGAGCUUCCUGAUAAUAGUGGGAAAAGCUGCUACUUGAUUGAGUGUUCCUCACCGUUAGCCGGUCACGACUGGGAGGUUAUUGAGCAGUACGUCGUGUUUUCAAACGGUUGGUUACUGCGGCGGGCGUGCUACACCCCAGAUGCUGUAAGCUCCUUUCGGAGUUGGUAUAGUAAUCCGGAACCGCGGUGGGAACAUAUUACGGCCACGUUGCCCCAUGGAAGCCGACCAACGCUGGACGACCUGGAGAUGAGUGAGGUCAACUCCGCCCGUUCCAAUAUAAGAAUAUGCUUUGGAUACGGUUUUUUCGUUCAUGUUACGGGGGGCGAAAGUUUACCCGACAGAUUCGACCUACUACAUCAUCCCACGACUCUUAACUUGGGGUUGUUGACAUCUUUGAUUACGCUUUACUGUUACCCGCCGUGUUUGUUUAAGCUACCAAACAAUAGACGUCGAGUUAUAUGUGGGAGUCGCCUGGUAAUAGCUACCGGAGCUCAGGCGGUUUUAACGGUAAAUAGGCGAGUGGGCUGUAGGGCACGCAGGCAUAUUGGGGGAUCGCCGAAUUGUGCCGCACUCCCUUUCACAAAACGGUGCCGUAAGGCCAUAAUUGCUACAGAUCAGCCAGAGACCCCAGCCCAAGCACCUCCUCACGACUGUCACGAAGCGAGCUGUUCCCGGAGCUCUCUCCUGCAAGAGACUUUUCUAUGGACGAGGUCCGGGCUACUAUACAGUCGGGACGCUUUAUUGUGGGCUACGCCUCCAAGUUCAAUGGUGGAUUUGGCUCUUAUGAGAACUCUUGGUGCAAUAUGCCAAUCAGUGCAUAGAAACCAACACUUACGCCCUCAUGCUAUAUCUUUUGAACAUCAAGAAAGUUAUAGUACAAACGGGCGGAGACAUCAACGCGCCUUUGUGCAACAAAACGGUGGCUCUAGGUCCCUACUAGUCUCUAGGUUCGGUGUUUGUGCCAGUGUCGAGGACGCACCGAAUGCGACAAUCGGUGUCAGGUGGAUAAGUGGCGGUAGACCUUGGGACUUUGAUAAUCCUCCGUAUACAUAUAUAGACUGGGAGCUCAGGGGCAACAUUCGGGGCUUGAUGCAGCACGAGCCACCACAAUCUAAUGAGGGGUCGCAUCACCCUAUUAGUACUGCCACCUUAUGGAGGGCGGGACACAGGUUUUUGCACGUUUAUAACUACCAUUCUGCUCCAGUGCGCCAUAAUCUGAAGGCGGAUUGGCUGGCAGGCUCUAGCACACAAGGAUCUGAAGCAAACCCAUGCCGGUUGCGAGUCGCCUGCUCGAAUCGCUUUUUACUUUCAACAUUUGUUCUAAUUCACAGACCCGGAAGCUCGGACCAAGGCGAGAUAGGCUUACUAAUGUGCGCCAUCGUAAGUACCCAAUCGUCUAAACGUUGUGCCGGUACGUGCGUAUGUUGGUGCGCAAGCAUUUCUAAUACGCGAAUUCCGAACCUCAAAGCCGACCCAAAUUAUCAGAGUCGGAACUUUCUACAGCUCUUGGAAACCGGCGUAUGUCCCAGGGGGAACUUAUGUGAUCGAGGAAGCAACAAGCGAGGGCAGGACGUCCGCUGGCAAAUGGUUUACAUUGGAAGCGGACUGUUGACCCCGGAAAAAUCACAGGAGCGAGUCUUUUCGGACUGGGCGCCUAAUUGUGGCCCCCCCUCGCAGUGGAGAACGCACGCAGACCGCCUGGGUAACUACGGAGACUUAUAUGGCUGGUACCGCAAGGAACGAUACGCCACCAAGGCCAACUUGUCGGACGCACUGGUAUUAGACACGCGCCUGUUGCGGCGGGUACGUGACAAUCUAACCAGGGUCCUGGAGAGGCAUUGGGAACGGUUGAGCCCUGGUUACAGCAUAUCUGUAAUGCAUGGAGCUUCCGAUGCACAGCGAUUGAUAGGGACUGCACCUCCUAAGCAUAUCCGCGCCACCGAAAGUUCUGGGAGCCGAAGUGCGCGAAAUGGUACUACUUGUUGGGAGCCCUCCUGUGUAAAUGCCUGGUUGUAUUUGAGGCUUUGUCCUUCAGGAGCUCAGUUAUCUCCCAGAGCGGUAAGAAUAAGCACAGAAACUUCCGUAUUACUUCGCCGUGGGGUUAGUAGCAACCGAGGUGCCUCAGUGAUCCGCAUAGUAGUAUUGUACAUACUUGUUUUAGUUAUUGUUACGCGCUCUCGCACUCGGCCACAAUUGUGCGUGGCCGAUACUGAUGACUUGAAUGAGGAAAAAACGGUACCUCAGCCGCGCAAAUUAAUUCGCAUUAUUUACCGGUUCGUAUCAACUAACGCGCGCGGGUUUAAAGAAGUAUCAUUGGUGACAGUAUUUAAGUAUGAGUGGACAUUACACGGUAUCACGACCUCGGGGACUCAUAUCCGGGCUAAGUUUCGCGUUCAGUCACGACUACGGUCCCCGCACGUGGCCCUUAUACUAUAUCCCCCACAGAGCGGAAAACGUAGUGCUUGGAUAUCAUCACCCGAACUAAGCCCCGCCGUGGCUAUAAAGAUGGGUCAGGUAGCAAUCGUCAAUGCUAUAGGAGCCCAACGCACAUAUUUCCGGCUCCAUAAGACGCCCGAACAGUUAUGGCGCCGAGUAGUAAAUAAGUUGCGACCGUCUUGUUAUCGUUUUGCAGGAUCGUGCUCAUACUGUCUCGAACGGACGCCAGUUGGCGCAGGUGUCGUACGGUGCCCGGGUGGAGGGAUUACGUCGCAGUGUCACCCCCCCGCUGCGAGUCUAUUUCGGCACCCGCUCAUAUGGCCAGAAGUCUUUGAGACAGAGUCUCCGGUGCCGAUAGAAGUAGCCGCAGCUGCAGCCGCAGGCCAAUGCAACAAUAAGGGGUUUCGUCCAAUGUCCAGCGAAUACGACGCCUGGCAUCACAGGCCGACACAGAGGCGGCGGUUCAAAUGGAGGUCCGCACACCCCACAAGCGCCAUAGUUAGUCGUCGAAUAGAAGUCUUCUCUUCUACGGUGGCCGCUCGCAGGAGUGGAAUUGGGCUGCUAGUGGCUGGACAUGUAAGUGUUAUUAUGCGAGCUUUAGUAGAAAAAAGGCGCCGAAUUAAAGUUACUGCUGUAGCGCCGGUCAGGCAAAACCUGGAGAAGAUCAAAUGCCGAAGUCUCUGUGGCUUCAACUGGUGCCUCUAUACUCGGUUCGGUACCUGGUCACACGAUACUUUUCGGCGAAUCCGACGCCAUUACGAUCUCCCAUGCGAGUGUCGCUUGCAAUUGGACAACAAUUGGAAUUGCCAUUCUGGCCUCAACCAGUGUGAGUCUGGAGGUAGUAGUGCCGACAAAUUAAAGACCGUCACUGCAGACAGGCAGAACGCCGGAGUGCGGGCCGAAGUGAACACGAAAAACCGCUCGGGCUUGAGAAUUCGUGUCUUGAUUUUGAAAGACACCCGUAGAUUAUCAGCGAUUCUGACGACUAACGGCUCUCUUUAUGCCCACCCGGCGGCGCCCGUUACGUCGUCCGACUCUACUAGCAAGGUACUCCAACUGUACCGAAAACUAUCACUCUACCGCCUAAGUGGUCGAUCCCGUCUAUCAUGUCACUACCUGUUUAAGGGCCAUGUCCACCCAGUCCGAUGUGAGAGGUUGCAUUGUGCCCUUAUCCUCUGUAGUGACCCCUGCAUGGUCUAUGGACCACCUGGUGCAUACAGGGGGCCUACGCAUUCUCAAGUUUUCCCACCGGAGCUGCCUCCGCUAAGGGUACAGAUUAUGCCACCCUCAAGAGGCCCCCUGAGAGCCCGGCCCAGCAUAAUCAGCGUCUGUAUAGCUCUCAGUUACGAUGUCCACCCUGGUCGCCUCUCCCGUACGACUACGGAAUUUAUCCCACGCUCGAUUCUCCAGGCCGAGAUGGUCCUAAUAGAUCAGCUAUCACAGGGAGAAAAUAUUAGAACGUCUAUCAUGUUGUCAGGGAGCCUGGUAGGGUCUUUAUCUAGAAGUGGCCGACGGCUGUUGUCAGAGUACACGUACAAAUAUGCCAAGGGACCAGAACCCUGCACCAGAAAGUCAAACCCCCGCCUCAUUGGCGCUUCAAGCGUUGUCGGGUGGUCCUGCUUGCCCCCAGUGCAGGCUAUUUGUGCGUACUAUAAGCGGAGUCUGAGGAGGGGACGGAUUUCAAUGACGCUAGCUAUUGUGUGUUGGUUUGAUGAAAUGGGUCACGGCCCAAAAGACCGGGAAAAGCCCUGGAGACCUUUUUUAUACUCCAUGCCAAUACCUCCCCACUCCUCUAUUGAGAUGGGGAUGGGCUUCCCUGUGUAUUUAAGAAGAAUCCAGAUUGUGCGGUUGGUUAUUGACCCGGCCCUUACAACCGUUCUGCUGUCCUCGAUCGCACGCUCACCCCAGUUUGUGAGGCGACGGUCUUGCGUGCCUAUCCCAAAGCACCACAUAUAUCCACGAAGCUCGUCACUCACGGCAUAUUGCUCCAAAUCUGACAUGUGCGAACGCAAAGCAGCAUUACACGGAGGCUCGGGCGCACGGGGAAUGUCGACUCGCAACGCUGACACAUCAGAGGCUACCAUUUCGAUAGCGCGUCCCACAUGUCUUCGACCAGUAUCAGCCCCUUAUGCCUAUCACAUGGUUGUGACCACGGUCGUUUUCGUACAGAUUUGUGAGUCAGAUGACGUUGACGAAAUUUCCAGCAUCGUAGGUCCCUUAUAUCCCUCGCCGAGCAGUUGCGGCCAACCCUCACCGUGGACAACGUGCCAUCAUAAUCGCGAGCAUUUGAGGCUAAAGUCCUCUCCGUUAUGCACACAUCCACGUAAAAGCGGCCGCACCAAGAAACUCCUGGAACCUGGUCUCCCAAGAUCGAAGCGUAUGAAGAUGGUACGAUCACGCCCGGAUUGGCGCCCAGACAAGCGGUACUGUUGCCAAGUCUCCACACACGUAGAUGAUAAUGUAUUCCCGCCUCAAGGGCAUUCGAUUAACACCUACGUGCUAUGUUCUGUUCGAGAAUACACAAAUCCUCUAGCUACCAGUUUGAUUCUUAAGGUCGGUCUGAUUGAGCUGGGGGGCCUGACGCUAUUCUCAUUCCAUGAACGGUCGCGACAUCACCCUCGCGGCUUGGGAGCAACUAUCUGUACCAUAGUAGCGCGCCACAGGGAGGCAGCAAGUCCUCGGCAGACGUGGGGCGAAGGUUCGACAUUCUUGUAUACUCCCGCGGCGAGGCCAGGAUUCCGAGGCCAAAAUUGGCGGAGCAACGACAAACUUCGAAAUGCCCUAACUUUAUUAUACGAAUCCUACAGUGGGCAGGACCAACCGUCGAGUACUGGUCUUAGUGCGAGUGAUUUCUACGUCUCCCAAAGGUACACCGAAGGAUUGGUACCGAAUGAUAGGCGCCCGAAUCGAACAGACACUCAGAUCGUUACGACUGGUCGGUUUUUGGUCCGAGAUGUCGCAUAUUCCCAAAGUCAUAAACCUACGGGAUCAUACGGGUCUCAUUGUUGUCCUGUUGUGGCCCGGGAACGAUGCAGACCCAAAUUUGCUCGCCCGCGAACUCCUAAUGACACUAUGGGCGUAGCUUUCAUCGCUUCACGCAGCUCCCUAACGGACAUCCCGCCUGUGUCUAGAAUAGAAACCACAGCCUCUAAGGGUACAGCAUGCAUUAGCUUCCGGUCAAGCUGUCGCCUUAAUAAUUACAGGGGUAGACCAAACCGUCCUUCUCACGCGGGUAAACUCGGGUUGGAGUGUCUACCUCGCAGCAGUUUGACAGGGGUGCAGCUAACUUCAACUUCCGGUUCAUGGUUGCCAACCUGUUGGGGUUAUCCCUUGAUGUUGACGAAACGACCACACGGGGCUUCGUGCGAAUUUCCUAGCCCCGCCCAGUUAGGCUCUUGCUCCAUGCUUGAGAUUCCUAGCGUGUCGGGCCAGCGCCAGGCUAGCCGAUCUAGUGUAGUGGAUCUGCCAUCUAGCAACCAUGAACGGGCCCCCCCUCAAUUAGCAGUAGAAAUGCGAGUGGUCCAGGCGGUCCGCUUCAAGGCUUCUCUGACUAGAAAUACGACGCAGUAUUCCAGACUGGAUGUUGUGAUAAAAAUAAGCCGCAAGCCGAGCGGUGGGGUAGACCGGGACGAAGAAGAACUGCAUAGCUACGUAAAUAAAGCGAGGACAGGAGGUGAUAACCCCGUAACGUUUAUGCUCCGGUUAACGAUGCUGAAGGGCCCGACUUUCGCGACCGUUUCUACAUUAAGAACUGUUGGGGAAUUCGGAAAGACUUGCUGCAGGGCGGGCUCCUUGCUAGACGCUACCUAA\"\n",
    "\n",
    "Prot = Seq.translate(data_rna)\n",
    "print(Prot)\n",
    "\n"
   ]
  },
  {
   "cell_type": "code",
   "execution_count": 15,
   "id": "b68e0c23",
   "metadata": {},
   "outputs": [
    {
     "name": "stdout",
     "output_type": "stream",
     "text": [
      "14 53 83 90 139 146 166 173 190 197 212 269 296 357 383 390 415 537 589 596 603 634 727 778 785 853 860 907 954\n"
     ]
    },
    {
     "ename": "FileNotFoundError",
     "evalue": "[Errno 2] No such file or directory: 'output/009_SUBS.txt'",
     "output_type": "error",
     "traceback": [
      "\u001b[0;31m---------------------------------------------------------------------------\u001b[0m",
      "\u001b[0;31mFileNotFoundError\u001b[0m                         Traceback (most recent call last)",
      "\u001b[0;32m<ipython-input-15-a8959c5fb82c>\u001b[0m in \u001b[0;36m<module>\u001b[0;34m\u001b[0m\n\u001b[1;32m     10\u001b[0m \u001b[0;34m\u001b[0m\u001b[0m\n\u001b[1;32m     11\u001b[0m \u001b[0mprint\u001b[0m\u001b[0;34m(\u001b[0m\u001b[0;34m' '\u001b[0m\u001b[0;34m.\u001b[0m\u001b[0mjoin\u001b[0m\u001b[0;34m(\u001b[0m\u001b[0mlocations\u001b[0m\u001b[0;34m)\u001b[0m\u001b[0;34m)\u001b[0m\u001b[0;34m\u001b[0m\u001b[0;34m\u001b[0m\u001b[0m\n\u001b[0;32m---> 12\u001b[0;31m \u001b[0;32mwith\u001b[0m \u001b[0mopen\u001b[0m\u001b[0;34m(\u001b[0m\u001b[0;34m'output/009_SUBS.txt'\u001b[0m\u001b[0;34m,\u001b[0m \u001b[0;34m'w'\u001b[0m\u001b[0;34m)\u001b[0m \u001b[0;32mas\u001b[0m \u001b[0moutput_data\u001b[0m\u001b[0;34m:\u001b[0m\u001b[0;34m\u001b[0m\u001b[0;34m\u001b[0m\u001b[0m\n\u001b[0m\u001b[1;32m     13\u001b[0m      \u001b[0moutput_data\u001b[0m\u001b[0;34m.\u001b[0m\u001b[0mwrite\u001b[0m\u001b[0;34m(\u001b[0m\u001b[0;34m' '\u001b[0m\u001b[0;34m.\u001b[0m\u001b[0mjoin\u001b[0m\u001b[0;34m(\u001b[0m\u001b[0mlocations\u001b[0m\u001b[0;34m)\u001b[0m\u001b[0;34m)\u001b[0m\u001b[0;34m\u001b[0m\u001b[0;34m\u001b[0m\u001b[0m\n",
      "\u001b[0;31mFileNotFoundError\u001b[0m: [Errno 2] No such file or directory: 'output/009_SUBS.txt'"
     ]
    }
   ],
   "source": [
    "with open('Downloads/rosalind_subs.txt') as input_data:\n",
    "    s,t = input_data.readlines()\n",
    "    s = s.rstrip()\n",
    "    t = t.rstrip()\n",
    "\n",
    "locations = []\n",
    "for i in range(0, len(s)-len(t)+1):\n",
    "    if s[i:i+len(t)] == t:\n",
    "        locations.append(str(i+1))\n",
    "\n",
    "print(' '.join(locations))\n",
    "with open('output/009_SUBS.txt', 'w') as output_data:\n",
    "     output_data.write(' '.join(locations))"
   ]
  },
  {
   "cell_type": "code",
   "execution_count": 18,
   "id": "1c6da9ad",
   "metadata": {},
   "outputs": [
    {
     "ename": "TypeError",
     "evalue": "'FastaIterator' object is not subscriptable",
     "output_type": "error",
     "traceback": [
      "\u001b[0;31m---------------------------------------------------------------------------\u001b[0m",
      "\u001b[0;31mTypeError\u001b[0m                                 Traceback (most recent call last)",
      "\u001b[0;32m<ipython-input-18-e5c31622579e>\u001b[0m in \u001b[0;36m<module>\u001b[0;34m\u001b[0m\n\u001b[1;32m     12\u001b[0m \u001b[0;34m\u001b[0m\u001b[0m\n\u001b[1;32m     13\u001b[0m \u001b[0;31m# Setup an array and count into the array\u001b[0m\u001b[0;34m\u001b[0m\u001b[0;34m\u001b[0m\u001b[0;34m\u001b[0m\u001b[0m\n\u001b[0;32m---> 14\u001b[0;31m \u001b[0mM\u001b[0m \u001b[0;34m=\u001b[0m \u001b[0mzeros\u001b[0m\u001b[0;34m(\u001b[0m\u001b[0;34m(\u001b[0m\u001b[0;36m4\u001b[0m\u001b[0;34m,\u001b[0m\u001b[0mlen\u001b[0m\u001b[0;34m(\u001b[0m\u001b[0mfasta_sequences\u001b[0m\u001b[0;34m[\u001b[0m\u001b[0;36m0\u001b[0m\u001b[0;34m]\u001b[0m\u001b[0;34m[\u001b[0m\u001b[0;36m1\u001b[0m\u001b[0;34m]\u001b[0m\u001b[0;34m)\u001b[0m\u001b[0;34m)\u001b[0m\u001b[0;34m,\u001b[0m \u001b[0mdtype\u001b[0m \u001b[0;34m=\u001b[0m \u001b[0mint\u001b[0m\u001b[0;34m)\u001b[0m\u001b[0;34m\u001b[0m\u001b[0;34m\u001b[0m\u001b[0m\n\u001b[0m\u001b[1;32m     15\u001b[0m \u001b[0msnp_dict\u001b[0m \u001b[0;34m=\u001b[0m \u001b[0;34m{\u001b[0m\u001b[0;34m'A'\u001b[0m\u001b[0;34m:\u001b[0m\u001b[0;36m0\u001b[0m\u001b[0;34m,\u001b[0m \u001b[0;34m'C'\u001b[0m\u001b[0;34m:\u001b[0m\u001b[0;36m1\u001b[0m\u001b[0;34m,\u001b[0m \u001b[0;34m'G'\u001b[0m\u001b[0;34m:\u001b[0m\u001b[0;36m2\u001b[0m\u001b[0;34m,\u001b[0m \u001b[0;34m'T'\u001b[0m\u001b[0;34m:\u001b[0m\u001b[0;36m3\u001b[0m\u001b[0;34m}\u001b[0m\u001b[0;34m\u001b[0m\u001b[0;34m\u001b[0m\u001b[0m\n\u001b[1;32m     16\u001b[0m \u001b[0;32mfor\u001b[0m \u001b[0mdna\u001b[0m \u001b[0;32min\u001b[0m \u001b[0mfasta_sequences\u001b[0m\u001b[0;34m:\u001b[0m\u001b[0;34m\u001b[0m\u001b[0;34m\u001b[0m\u001b[0m\n",
      "\u001b[0;31mTypeError\u001b[0m: 'FastaIterator' object is not subscriptable"
     ]
    }
   ],
   "source": [
    "#Consensus and profile \n",
    "\n",
    "from numpy import zeros\n",
    "#from scripts import ReadFASTA\n",
    "from Bio import SeqIO\n",
    "\n",
    "\n",
    "# Data is in FASTA form\n",
    "#dna_list = ReadFASTA('Downloads/rosalind_cons.txt')\n",
    "fasta_sequences = SeqIO.parse(open('Downloads/rosalind_cons.txt'),'fasta')\n",
    "\n",
    "\n",
    "# Setup an array and count into the array\n",
    "M = zeros((4,len(fasta_sequences[0][1])), dtype = int)\n",
    "snp_dict = {'A':0, 'C':1, 'G':2, 'T':3}\n",
    "for dna in fasta_sequences:\n",
    "    for index, snp in enumerate(dna[1]):\n",
    "        M[snp_dict[snp]][index] += 1\n",
    "\n",
    "# Determine the consensus string\n",
    "consensus = ''\n",
    "to_snp = {0:'A', 1:'C', 2:'G', 3:'T'}\n",
    "for i in range(0,len(dna_list[0][1])):\n",
    "    maxval = [-1,-1]\n",
    "    for j in range(0,4):\n",
    "        if maxval[1] < M[j][i]:\n",
    "            maxval = [j, M[j][i]]\n",
    "    consensus += to_snp[maxval[0]]\n",
    "\n",
    "# Format the count properly\n",
    "consensus = [consensus, 'A:', 'C:', 'G:', 'T:']\n",
    "for index, col in enumerate(M):\n",
    "    for val in col:\n",
    "        consensus[index+1] += ' '+str(val)\n",
    "\n",
    "# Print and write the output\n",
    "print('\\n'.join(consensus))\n",
    "with open('output/010_CONS.txt', 'w') as output_data: \n",
    "    output_data.write('\\n'.join(consensus))"
   ]
  },
  {
   "cell_type": "code",
   "execution_count": 24,
   "id": "517ff21a",
   "metadata": {},
   "outputs": [
    {
     "name": "stdout",
     "output_type": "stream",
     "text": [
      "339503508590575\n"
     ]
    }
   ],
   "source": [
    "#rabbits and recurrence problem \n",
    "def LinearFibonacci(n, k):\n",
    "    fn = f1 = f2 = 1\n",
    "    for x in range(2, n):\n",
    "        fn = f1 + k * f2\n",
    "        f2, f1 = f1, fn\n",
    "    return fn\n",
    "\n",
    "n = 16\n",
    "k = 87\n",
    "print(LinearFibonacci(n, k))"
   ]
  },
  {
   "cell_type": "code",
   "execution_count": null,
   "id": "4cf9c6eb",
   "metadata": {},
   "outputs": [],
   "source": [
    "#Overlap graphs \n",
    "from Bio import SeqIO\n",
    "\n",
    "k = 3\n",
    "input_file = 'rosalind_grph.txt'\n",
    "\n",
    "with open(input_file) as f:\n",
    "    fasta_sequences = list(SeqIO.parse(f, 'fasta'))\n",
    "\n",
    "for fasta1 in fasta_sequences:\n",
    "    for fasta2 in fasta_sequences:\n",
    "        name1, sequence1 = fasta1.id, str(fasta1.seq)\n",
    "        name2, sequence2 = fasta2.id, str(fasta2.seq)\n",
    "        if sequence1 == sequence2:\n",
    "            continue\n",
    "        suffix = sequence1[-k:]\n",
    "        prefix = sequence2[:k]\n",
    "        if prefix == suffix:\n",
    "            print(name1, name2)"
   ]
  },
  {
   "cell_type": "code",
   "execution_count": 26,
   "id": "e0dbf726",
   "metadata": {},
   "outputs": [
    {
     "ename": "ValueError",
     "evalue": "invalid literal for int() with base 10: 'C'",
     "output_type": "error",
     "traceback": [
      "\u001b[0;31m---------------------------------------------------------------------------\u001b[0m",
      "\u001b[0;31mValueError\u001b[0m                                Traceback (most recent call last)",
      "\u001b[0;32m<ipython-input-26-44c0b952e08f>\u001b[0m in \u001b[0;36m<module>\u001b[0;34m\u001b[0m\n\u001b[1;32m      5\u001b[0m \u001b[0;31m# A simple application of expected value.\u001b[0m\u001b[0;34m\u001b[0m\u001b[0;34m\u001b[0m\u001b[0;34m\u001b[0m\u001b[0m\n\u001b[1;32m      6\u001b[0m \u001b[0;32mfor\u001b[0m \u001b[0mindex\u001b[0m\u001b[0;34m,\u001b[0m \u001b[0mnum_parents\u001b[0m \u001b[0;32min\u001b[0m \u001b[0menumerate\u001b[0m\u001b[0;34m(\u001b[0m\u001b[0ms\u001b[0m\u001b[0;34m)\u001b[0m\u001b[0;34m:\u001b[0m\u001b[0;34m\u001b[0m\u001b[0;34m\u001b[0m\u001b[0m\n\u001b[0;32m----> 7\u001b[0;31m     \u001b[0mEV_list\u001b[0m\u001b[0;34m.\u001b[0m\u001b[0mappend\u001b[0m\u001b[0;34m(\u001b[0m\u001b[0;36m2\u001b[0m\u001b[0;34m*\u001b[0m\u001b[0mint\u001b[0m\u001b[0;34m(\u001b[0m\u001b[0mnum_parents\u001b[0m\u001b[0;34m)\u001b[0m\u001b[0;34m*\u001b[0m\u001b[0mp_list\u001b[0m\u001b[0;34m[\u001b[0m\u001b[0mindex\u001b[0m\u001b[0;34m]\u001b[0m\u001b[0;34m)\u001b[0m\u001b[0;34m\u001b[0m\u001b[0;34m\u001b[0m\u001b[0m\n\u001b[0m\u001b[1;32m      8\u001b[0m \u001b[0;34m\u001b[0m\u001b[0m\n\u001b[1;32m      9\u001b[0m \u001b[0mprint\u001b[0m\u001b[0;34m(\u001b[0m\u001b[0msum\u001b[0m\u001b[0;34m(\u001b[0m\u001b[0mEV_list\u001b[0m\u001b[0;34m)\u001b[0m\u001b[0;34m)\u001b[0m\u001b[0;34m\u001b[0m\u001b[0;34m\u001b[0m\u001b[0m\n",
      "\u001b[0;31mValueError\u001b[0m: invalid literal for int() with base 10: 'C'"
     ]
    }
   ],
   "source": [
    "#calculating expected offsprings mendel\n",
    "\n",
    "with open('data/rosalind_iev.txt') as input_data:\n",
    "\ts = input_data.read().split()\n",
    "\n",
    "# Probabilities of Child Dominant Genotype\n",
    "# ----------------------------------------\n",
    "# s[0]: AA-AA -> 100% chance of dominant\n",
    "# s[1]: AA-Aa -> 100%\n",
    "# s[2]: AA-aa -> 100%\n",
    "# s[3]: Aa-Aa -> 75%\n",
    "# s[4]: Aa-aa -> 50%\n",
    "# s[5]: aa-aa -> 0%\n",
    "\n",
    "\n",
    "p_list = [1, 1, 1, 0.75, 0.5, 0]\n",
    "EV_list =[]\n",
    "\n",
    "# A simple application of expected value.\n",
    "for index, num_parents in enumerate(s):\n",
    "    EV_list.append(2*int(num_parents)*p_list[index])\n",
    "\n",
    "print(sum(EV_list))"
   ]
  },
  {
   "cell_type": "code",
   "execution_count": null,
   "id": "8657b728",
   "metadata": {},
   "outputs": [],
   "source": []
  },
  {
   "cell_type": "code",
   "execution_count": null,
   "id": "d262978e",
   "metadata": {},
   "outputs": [],
   "source": []
  },
  {
   "cell_type": "code",
   "execution_count": null,
   "id": "f2d8d3fd",
   "metadata": {},
   "outputs": [],
   "source": []
  },
  {
   "cell_type": "code",
   "execution_count": null,
   "id": "189052f1",
   "metadata": {},
   "outputs": [],
   "source": []
  },
  {
   "cell_type": "code",
   "execution_count": null,
   "id": "25c4db86",
   "metadata": {},
   "outputs": [],
   "source": []
  },
  {
   "cell_type": "code",
   "execution_count": null,
   "id": "4239d848",
   "metadata": {},
   "outputs": [],
   "source": []
  },
  {
   "cell_type": "code",
   "execution_count": null,
   "id": "9a4f0abc",
   "metadata": {},
   "outputs": [],
   "source": [
    "\n"
   ]
  },
  {
   "cell_type": "code",
   "execution_count": null,
   "id": "2551bcbe",
   "metadata": {},
   "outputs": [],
   "source": []
  },
  {
   "cell_type": "code",
   "execution_count": null,
   "id": "3328eb00",
   "metadata": {},
   "outputs": [],
   "source": []
  },
  {
   "cell_type": "code",
   "execution_count": null,
   "id": "81bc6f69",
   "metadata": {},
   "outputs": [],
   "source": []
  },
  {
   "cell_type": "code",
   "execution_count": 37,
   "id": "af1034e5",
   "metadata": {},
   "outputs": [
    {
     "ename": "SyntaxError",
     "evalue": "invalid syntax (<ipython-input-37-132214812997>, line 1)",
     "output_type": "error",
     "traceback": [
      "\u001b[0;36m  File \u001b[0;32m\"<ipython-input-37-132214812997>\"\u001b[0;36m, line \u001b[0;32m1\u001b[0m\n\u001b[0;31m    install biopython\u001b[0m\n\u001b[0m            ^\u001b[0m\n\u001b[0;31mSyntaxError\u001b[0m\u001b[0;31m:\u001b[0m invalid syntax\n"
     ]
    }
   ],
   "source": [
    "install biopython"
   ]
  },
  {
   "cell_type": "code",
   "execution_count": null,
   "id": "80c0866f",
   "metadata": {},
   "outputs": [],
   "source": []
  },
  {
   "cell_type": "code",
   "execution_count": null,
   "id": "8fad53af",
   "metadata": {},
   "outputs": [],
   "source": []
  },
  {
   "cell_type": "code",
   "execution_count": null,
   "id": "74aea1f1",
   "metadata": {},
   "outputs": [],
   "source": []
  },
  {
   "cell_type": "code",
   "execution_count": null,
   "id": "9ff0d861",
   "metadata": {},
   "outputs": [],
   "source": []
  },
  {
   "cell_type": "code",
   "execution_count": null,
   "id": "0986400b",
   "metadata": {},
   "outputs": [],
   "source": []
  },
  {
   "cell_type": "code",
   "execution_count": null,
   "id": "16ba7e73",
   "metadata": {},
   "outputs": [],
   "source": []
  },
  {
   "cell_type": "code",
   "execution_count": null,
   "id": "675f5826",
   "metadata": {},
   "outputs": [],
   "source": []
  },
  {
   "cell_type": "code",
   "execution_count": null,
   "id": "17f24ecf",
   "metadata": {},
   "outputs": [],
   "source": []
  },
  {
   "cell_type": "code",
   "execution_count": null,
   "id": "1bba66f9",
   "metadata": {},
   "outputs": [],
   "source": []
  },
  {
   "cell_type": "code",
   "execution_count": null,
   "id": "45235e03",
   "metadata": {},
   "outputs": [],
   "source": []
  },
  {
   "cell_type": "code",
   "execution_count": null,
   "id": "0effbb95",
   "metadata": {},
   "outputs": [],
   "source": []
  },
  {
   "cell_type": "code",
   "execution_count": null,
   "id": "e0c7c9d7",
   "metadata": {},
   "outputs": [],
   "source": []
  },
  {
   "cell_type": "code",
   "execution_count": null,
   "id": "1e06f34d",
   "metadata": {},
   "outputs": [],
   "source": []
  },
  {
   "cell_type": "code",
   "execution_count": null,
   "id": "9fa313c3",
   "metadata": {},
   "outputs": [],
   "source": []
  },
  {
   "cell_type": "code",
   "execution_count": 11,
   "id": "e486b92e",
   "metadata": {},
   "outputs": [
    {
     "ename": "NameError",
     "evalue": "name 'distance' is not defined",
     "output_type": "error",
     "traceback": [
      "\u001b[0;31m---------------------------------------------------------------------------\u001b[0m",
      "\u001b[0;31mNameError\u001b[0m                                 Traceback (most recent call last)",
      "\u001b[0;32m<ipython-input-11-f686c2ce67d4>\u001b[0m in \u001b[0;36m<module>\u001b[0;34m\u001b[0m\n\u001b[0;32m----> 1\u001b[0;31m \u001b[0mdistance\u001b[0m\u001b[0;34m\u001b[0m\u001b[0;34m\u001b[0m\u001b[0m\n\u001b[0m",
      "\u001b[0;31mNameError\u001b[0m: name 'distance' is not defined"
     ]
    }
   ],
   "source": []
  },
  {
   "cell_type": "code",
   "execution_count": null,
   "id": "912c80f3",
   "metadata": {},
   "outputs": [],
   "source": []
  },
  {
   "cell_type": "code",
   "execution_count": null,
   "id": "9275aac4",
   "metadata": {},
   "outputs": [],
   "source": []
  },
  {
   "cell_type": "code",
   "execution_count": null,
   "id": "6650bf46",
   "metadata": {},
   "outputs": [],
   "source": []
  },
  {
   "cell_type": "code",
   "execution_count": null,
   "id": "c30b0f2c",
   "metadata": {},
   "outputs": [],
   "source": []
  },
  {
   "cell_type": "code",
   "execution_count": null,
   "id": "c672a1da",
   "metadata": {},
   "outputs": [],
   "source": []
  },
  {
   "cell_type": "code",
   "execution_count": null,
   "id": "aa5d83d8",
   "metadata": {},
   "outputs": [],
   "source": []
  },
  {
   "cell_type": "code",
   "execution_count": null,
   "id": "89fb649b",
   "metadata": {},
   "outputs": [],
   "source": []
  },
  {
   "cell_type": "code",
   "execution_count": null,
   "id": "9e74e205",
   "metadata": {},
   "outputs": [],
   "source": []
  },
  {
   "cell_type": "code",
   "execution_count": null,
   "id": "28e41f0e",
   "metadata": {},
   "outputs": [],
   "source": []
  },
  {
   "cell_type": "code",
   "execution_count": null,
   "id": "6e90a777",
   "metadata": {},
   "outputs": [],
   "source": []
  },
  {
   "cell_type": "code",
   "execution_count": null,
   "id": "aa05b120",
   "metadata": {},
   "outputs": [],
   "source": []
  },
  {
   "cell_type": "code",
   "execution_count": null,
   "id": "e6419518",
   "metadata": {},
   "outputs": [],
   "source": []
  },
  {
   "cell_type": "code",
   "execution_count": null,
   "id": "fed0d5eb",
   "metadata": {},
   "outputs": [],
   "source": []
  },
  {
   "cell_type": "code",
   "execution_count": null,
   "id": "30f6020f",
   "metadata": {},
   "outputs": [],
   "source": []
  },
  {
   "cell_type": "code",
   "execution_count": null,
   "id": "98794d8b",
   "metadata": {},
   "outputs": [],
   "source": []
  },
  {
   "cell_type": "code",
   "execution_count": null,
   "id": "168d26ec",
   "metadata": {},
   "outputs": [],
   "source": []
  },
  {
   "cell_type": "code",
   "execution_count": null,
   "id": "7b55048d",
   "metadata": {},
   "outputs": [],
   "source": []
  },
  {
   "cell_type": "code",
   "execution_count": null,
   "id": "8e7fc3a3",
   "metadata": {},
   "outputs": [],
   "source": []
  },
  {
   "cell_type": "code",
   "execution_count": null,
   "id": "fc81bb19",
   "metadata": {},
   "outputs": [],
   "source": []
  },
  {
   "cell_type": "code",
   "execution_count": null,
   "id": "7f9cb7ff",
   "metadata": {},
   "outputs": [],
   "source": []
  },
  {
   "cell_type": "code",
   "execution_count": null,
   "id": "37f1044c",
   "metadata": {},
   "outputs": [],
   "source": []
  },
  {
   "cell_type": "code",
   "execution_count": null,
   "id": "25d42922",
   "metadata": {},
   "outputs": [],
   "source": []
  },
  {
   "cell_type": "code",
   "execution_count": null,
   "id": "31f34cf0",
   "metadata": {},
   "outputs": [],
   "source": []
  },
  {
   "cell_type": "code",
   "execution_count": null,
   "id": "9a3b98ef",
   "metadata": {},
   "outputs": [],
   "source": []
  },
  {
   "cell_type": "code",
   "execution_count": null,
   "id": "58cab5e0",
   "metadata": {},
   "outputs": [],
   "source": []
  },
  {
   "cell_type": "code",
   "execution_count": null,
   "id": "200e0972",
   "metadata": {},
   "outputs": [],
   "source": []
  },
  {
   "cell_type": "code",
   "execution_count": null,
   "id": "cb6c74f1",
   "metadata": {},
   "outputs": [],
   "source": []
  },
  {
   "cell_type": "code",
   "execution_count": null,
   "id": "a1bea658",
   "metadata": {},
   "outputs": [],
   "source": []
  }
 ],
 "metadata": {
  "kernelspec": {
   "display_name": "Python 3",
   "language": "python",
   "name": "python3"
  },
  "language_info": {
   "codemirror_mode": {
    "name": "ipython",
    "version": 3
   },
   "file_extension": ".py",
   "mimetype": "text/x-python",
   "name": "python",
   "nbconvert_exporter": "python",
   "pygments_lexer": "ipython3",
   "version": "3.8.8"
  }
 },
 "nbformat": 4,
 "nbformat_minor": 5
}
